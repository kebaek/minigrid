{
 "cells": [
  {
   "cell_type": "code",
   "execution_count": null,
   "metadata": {},
   "outputs": [],
   "source": [
    "import pandas as pd\n",
    "\n",
    "model_dir = '/Users/baek/Research/minigrid/storage/MiniGrid-DoorKey-5x5-v0/aQL'\n",
    "pd.read_csv(model_dir + 'q_value.csv')\n",
    "print(\"Start to output value function, q value function and policy to file.\")\n",
    "    file = open(model_dir + '/q_value.csv', \"w\")\n",
    "    fieldnames = ['state', 'action', 'value']\n",
    "    writer = csv.DictWriter(file, fieldnames=fieldnames)\n",
    "    for key, value in q_value_function.items():\n",
    "        state, action = reverse_hashing_state_action(key)\n",
    "        writer.writerow({'state':state, 'action':action, 'value':value})\n",
    "    file.close()"
   ]
  }
 ],
 "metadata": {
  "kernelspec": {
   "display_name": "Python 3",
   "language": "python",
   "name": "python3"
  },
  "language_info": {
   "codemirror_mode": {
    "name": "ipython",
    "version": 3
   },
   "file_extension": ".py",
   "mimetype": "text/x-python",
   "name": "python",
   "nbconvert_exporter": "python",
   "pygments_lexer": "ipython3",
   "version": "3.7.3"
  }
 },
 "nbformat": 4,
 "nbformat_minor": 2
}

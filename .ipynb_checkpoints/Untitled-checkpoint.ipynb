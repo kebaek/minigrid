{
 "cells": [
  {
   "cell_type": "code",
   "execution_count": 65,
   "metadata": {},
   "outputs": [],
   "source": [
    "import pandas as pd\n",
    "import numpy as np\n",
    "\n",
    "model_dir = 'storage/dqn-4Door-1000000'"
   ]
  },
  {
   "cell_type": "code",
   "execution_count": 88,
   "metadata": {},
   "outputs": [],
   "source": [
    "seeds = np.arange(10) + 1\n",
    "episodes = [1000, 2000, 3000, 4000, 5000]"
   ]
  },
  {
   "cell_type": "code",
   "execution_count": 97,
   "metadata": {},
   "outputs": [
    {
     "name": "stdout",
     "output_type": "stream",
     "text": [
      "[['1000' '281682' '526.0027993559463' '36322' '5.781609195402299'\n",
      "  '75.5894727948971' '0' '1000' '0.060765817761421204']]\n",
      "1006.0000000000001\n",
      "[['2000' '523654' '303.4940126991858' '36988' '6.937931034482759'\n",
      "  '82.75566201607829' '0' '1000' '3.4562671184539795']]\n",
      "1006.0\n",
      "[['3000' '655286' '258.9036056226281' '37503' '13.386666666666667'\n",
      "  '114.69192279997557' '0' '1000' '30.039899826049805']]\n",
      "1004.0\n",
      "[['4000' '803220' '375.04819240864896' '37997' '0.018518518518518517'\n",
      "  '0.19155704505164073' '0' '2' '34.90303039550781']]\n",
      "6.0\n",
      "[['5000' '983121' '540.4876588722059' '38813' '5.704545454545454'\n",
      "  '75.16197042068988' '0' '1000' '37.00481414794922']]\n",
      "1003.9999999999999\n"
     ]
    }
   ],
   "source": [
    "reward_dict = {1000:[], 2000:[], 3000:[], 4000:[], 5000:[]}\n",
    "steps_dict = {1000:[], 2000:[], 3000:[], 4000:[], 5000:[]}\n",
    "won_dict = {1000:[], 2000:[], 3000:[], 4000:[], 5000:[]}\n",
    "for i in seeds[:1]:\n",
    "    log = pd.read_csv(model_dir + '-%d/'%i + 'log.csv', \n",
    "                      names = ['update','frames','FPS','duration','return_mean','return_std','return_min','return_max','policy_loss'],\n",
    "                     dtype = {'update':str, 'frames':str, 'return_mean':str, 'duration':str, 'return_max':str})\n",
    "    for j in episodes:\n",
    "        print(log[log['update'] ==  str(j)].values)\n",
    "        _, end_frames, _, _, avg_reward, _, _, max_reward, _ = log[log['update'] ==  str(j)].values[0]\n",
    "        _, start_frames, _, _, _, _, _, _, _ = log[log['update'] ==  str(j-1)].values[0]\n",
    "        frames = int(end_frames) - int(start_frames)\n",
    "        reward = float(avg_reward) * frames\n",
    "        won = False\n",
    "        if int(max_reward) == 1000:\n",
    "            won = True\n",
    "        print(reward)\n",
    "        \n",
    "        \n",
    "        \n",
    "        \n",
    "\n",
    "    \n",
    "    "
   ]
  },
  {
   "cell_type": "code",
   "execution_count": null,
   "metadata": {},
   "outputs": [],
   "source": []
  }
 ],
 "metadata": {
  "kernelspec": {
   "display_name": "Python 3",
   "language": "python",
   "name": "python3"
  },
  "language_info": {
   "codemirror_mode": {
    "name": "ipython",
    "version": 3
   },
   "file_extension": ".py",
   "mimetype": "text/x-python",
   "name": "python",
   "nbconvert_exporter": "python",
   "pygments_lexer": "ipython3",
   "version": "3.7.3"
  }
 },
 "nbformat": 4,
 "nbformat_minor": 2
}

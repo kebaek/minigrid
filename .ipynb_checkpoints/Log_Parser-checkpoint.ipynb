{
 "cells": [
  {
   "cell_type": "markdown",
   "metadata": {},
   "source": [
    "## Asynchronous Q Learning"
   ]
  },
  {
   "cell_type": "code",
   "execution_count": null,
   "metadata": {},
   "outputs": [],
   "source": [
    "import pandas as pd\n",
    "import numpy as np\n",
    "model_dir = 'storage/MiniGrid-FourDoor-v0/aQL/lr0.10_discount0.90_eps0.80'\n",
    "log = pd.read_csv(model_dir + '/log.csv', names = ['episodes', 'completed', 'reward', 'steps', 'seed'])\n",
    "\n",
    "## Compute Win Rate\n",
    "data_dict = {'episodes':[],'wins':[], 'rewards':[], 'steps':[]}\n",
    "episodes = np.sort(list(set(log['episodes'])))\n",
    "data_dict['episodes'] = episodes\n",
    "for i in episodes:\n",
    "    print('Number of wins in %d episodes:'%i)\n",
    "    n = len(log[log['episodes'] == i])\n",
    "    wins = np.sum(log[log['episodes'] == i]['completed'])\n",
    "    print('%d/%d'%(wins,n))\n",
    "    data_dict['wins'].append('%d.00/%d.00'%(wins,n))\n",
    "\n",
    "## Compute average reward\n",
    "episodes = np.sort(list(set(log['episodes'])))\n",
    "print(episodes)\n",
    "for i in episodes:\n",
    "    print('Average reward in %d episodes:'%i)\n",
    "    rewards = log[log['episodes'] == i][log['completed'] == 1]['reward']\n",
    "    print(np.average(rewards))\n",
    "    data_dict['rewards'].append(np.average(rewards))\n",
    "    \n",
    "## Compute average steps\n",
    "episodes = np.sort(list(set(log['episodes'])))\n",
    "print(episodes)\n",
    "for i in episodes:\n",
    "    print('Average steps in %d episodes:'%i)\n",
    "    steps = log[log['episodes'] == i][log['completed'] == 1]['steps']\n",
    "    print(np.average(steps))\n",
    "    data_dict['steps'].append(np.average(steps))"
   ]
  },
  {
   "cell_type": "code",
   "execution_count": 11,
   "metadata": {},
   "outputs": [],
   "source": [
    "##save results\n",
    "df = pd.DataFrame.from_dict(data_dict)\n",
    "df.to_csv(\"data.csv\")\n"
   ]
  },
  {
   "cell_type": "markdown",
   "metadata": {},
   "source": [
    "## Deep RL"
   ]
  },
  {
   "cell_type": "code",
   "execution_count": null,
   "metadata": {},
   "outputs": [],
   "source": [
    "import pandas as pd\n",
    "import numpy as np\n",
    "\n",
    "model_dir = 'storage/dqn-3Door-10000'\n",
    "seeds = np.arange(10) + 1 \n",
    "reward_dict = {}\n",
    "steps_dict = {}\n",
    "won_dict = {}\n",
    "for i in seeds:\n",
    "    log = pd.read_csv(model_dir + '-%d/'%i + 'eval.csv', \n",
    "                      names = ['completed', 'reward', 'steps to completion'])\n",
    "    for j, r in log.iterrows():\n",
    "        if i == 1:\n",
    "            reward_dict[(j+1)*1000] = []\n",
    "            steps_dict[(j+1)*1000] = []\n",
    "            won_dict[(j+1)*1000] = []\n",
    "        won_dict[(j+1)*1000].append(r[0])\n",
    "        reward_dict[(j+1)*1000].append(r[1])\n",
    "        steps_dict[(j+1)*1000].append(r[2])\n",
    "\n",
    "l = len(reward_dict)\n",
    "print(l)\n",
    "\n",
    "for i in range(1, l+1):\n",
    "    print('Episode', i*1000)\n",
    "    print('Average Reward', np.mean(reward_dict[i*1000]))\n",
    "    print('Won %d/%d'%(np.sum(won_dict[i*1000]), 10*len(won_dict[i*1000])))\n",
    "    print('Average Steps', np.mean(steps_dict[i*1000]))"
   ]
  }
 ],
 "metadata": {
  "kernelspec": {
   "display_name": "Python 3",
   "language": "python",
   "name": "python3"
  },
  "language_info": {
   "codemirror_mode": {
    "name": "ipython",
    "version": 3
   },
   "file_extension": ".py",
   "mimetype": "text/x-python",
   "name": "python",
   "nbconvert_exporter": "python",
   "pygments_lexer": "ipython3",
   "version": "3.7.3"
  }
 },
 "nbformat": 4,
 "nbformat_minor": 2
}

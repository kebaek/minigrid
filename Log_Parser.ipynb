{
 "cells": [
  {
   "cell_type": "code",
   "execution_count": 6,
   "metadata": {},
   "outputs": [],
   "source": [
    "import pandas as pd\n",
    "import numpy as np\n",
    "model_dir = 'storage/MiniGrid-FourDoor-v0/1000/aQL/lr0.10_discount0.90_eps0.80'\n",
    "log = pd.read_csv(model_dir + '/log.csv', names = ['episodes', 'completed', 'reward', 'steps', 'seed'])"
   ]
  },
  {
   "cell_type": "code",
   "execution_count": 7,
   "metadata": {},
   "outputs": [
    {
     "name": "stdout",
     "output_type": "stream",
     "text": [
      "[ 200  400  600  800 1000 1200 1400 1600 1800 2000]\n",
      "Number of wins in 200 episodes:\n",
      "10/10\n",
      "Number of wins in 400 episodes:\n",
      "10/10\n",
      "Number of wins in 600 episodes:\n",
      "10/10\n",
      "Number of wins in 800 episodes:\n",
      "10/10\n",
      "Number of wins in 1000 episodes:\n",
      "10/10\n",
      "Number of wins in 1200 episodes:\n",
      "10/10\n",
      "Number of wins in 1400 episodes:\n",
      "10/10\n",
      "Number of wins in 1600 episodes:\n",
      "10/10\n",
      "Number of wins in 1800 episodes:\n",
      "10/10\n",
      "Number of wins in 2000 episodes:\n",
      "10/10\n"
     ]
    }
   ],
   "source": [
    "## Compute number of wins per seeds run\n",
    "data_dict = {'episodes':[],'wins':[], 'rewards':[], 'steps':[]}\n",
    "episodes = np.sort(list(set(log['episodes'])))\n",
    "data_dict['episodes'] = episodes\n",
    "print(episodes)\n",
    "for i in episodes:\n",
    "    print('Number of wins in %d episodes:'%i)\n",
    "    n = len(log[log['episodes'] == i])\n",
    "    wins = np.sum(log[log['episodes'] == i]['completed'])\n",
    "    print('%d/%d'%(wins,n))\n",
    "    data_dict['wins'].append('%d.00/%d.00'%(wins,n))\n",
    "    "
   ]
  },
  {
   "cell_type": "code",
   "execution_count": 8,
   "metadata": {},
   "outputs": [
    {
     "name": "stdout",
     "output_type": "stream",
     "text": [
      "[ 200  400  600  800 1000 1200 1400 1600 1800 2000]\n",
      "Average reward in 200 episodes:\n",
      "1011.0\n",
      "Average reward in 400 episodes:\n",
      "1010.4\n",
      "Average reward in 600 episodes:\n",
      "1009.2\n",
      "Average reward in 800 episodes:\n",
      "1009.2\n",
      "Average reward in 1000 episodes:\n",
      "1006.6\n",
      "Average reward in 1200 episodes:\n",
      "1005.8\n",
      "Average reward in 1400 episodes:\n",
      "1005.6\n",
      "Average reward in 1600 episodes:\n",
      "1005.4\n",
      "Average reward in 1800 episodes:\n",
      "1005.2\n",
      "Average reward in 2000 episodes:\n",
      "1005.0\n"
     ]
    },
    {
     "name": "stderr",
     "output_type": "stream",
     "text": [
      "/Users/baek/.local/lib/python3.7/site-packages/ipykernel_launcher.py:7: UserWarning: Boolean Series key will be reindexed to match DataFrame index.\n",
      "  import sys\n"
     ]
    }
   ],
   "source": [
    "## Compute average reward\n",
    "\n",
    "episodes = np.sort(list(set(log['episodes'])))\n",
    "print(episodes)\n",
    "for i in episodes:\n",
    "    print('Average reward in %d episodes:'%i)\n",
    "    rewards = log[log['episodes'] == i][log['completed'] == 1]['reward']\n",
    "    print(np.average(rewards))\n",
    "    data_dict['rewards'].append(np.average(rewards))\n"
   ]
  },
  {
   "cell_type": "code",
   "execution_count": 9,
   "metadata": {},
   "outputs": [
    {
     "name": "stdout",
     "output_type": "stream",
     "text": [
      "[ 200  400  600  800 1000 1200 1400 1600 1800 2000]\n",
      "Average steps in 200 episodes:\n",
      "22.7\n",
      "Average steps in 400 episodes:\n",
      "21.6\n",
      "Average steps in 600 episodes:\n",
      "19.0\n",
      "Average steps in 800 episodes:\n",
      "19.4\n",
      "Average steps in 1000 episodes:\n",
      "14.9\n",
      "Average steps in 1200 episodes:\n",
      "13.7\n",
      "Average steps in 1400 episodes:\n",
      "12.8\n",
      "Average steps in 1600 episodes:\n",
      "12.7\n",
      "Average steps in 1800 episodes:\n",
      "12.6\n",
      "Average steps in 2000 episodes:\n",
      "12.5\n"
     ]
    },
    {
     "name": "stderr",
     "output_type": "stream",
     "text": [
      "/Users/baek/.local/lib/python3.7/site-packages/ipykernel_launcher.py:6: UserWarning: Boolean Series key will be reindexed to match DataFrame index.\n",
      "  \n"
     ]
    }
   ],
   "source": [
    "## Compute average steps\n",
    "episodes = np.sort(list(set(log['episodes'])))\n",
    "print(episodes)\n",
    "for i in episodes:\n",
    "    print('Average steps in %d episodes:'%i)\n",
    "    steps = log[log['episodes'] == i][log['completed'] == 1]['steps']\n",
    "    print(np.average(steps))\n",
    "    data_dict['steps'].append(np.average(steps))\n"
   ]
  },
  {
   "cell_type": "code",
   "execution_count": 11,
   "metadata": {},
   "outputs": [],
   "source": [
    "##save results\n",
    "df = pd.DataFrame.from_dict(data_dict)\n",
    "df.to_csv(\"data.csv\")\n"
   ]
  },
  {
   "cell_type": "code",
   "execution_count": null,
   "metadata": {},
   "outputs": [],
   "source": []
  },
  {
   "cell_type": "code",
   "execution_count": null,
   "metadata": {},
   "outputs": [],
   "source": []
  },
  {
   "cell_type": "code",
   "execution_count": null,
   "metadata": {},
   "outputs": [],
   "source": []
  }
 ],
 "metadata": {
  "kernelspec": {
   "display_name": "Python 3",
   "language": "python",
   "name": "python3"
  },
  "language_info": {
   "codemirror_mode": {
    "name": "ipython",
    "version": 3
   },
   "file_extension": ".py",
   "mimetype": "text/x-python",
   "name": "python",
   "nbconvert_exporter": "python",
   "pygments_lexer": "ipython3",
   "version": "3.7.3"
  }
 },
 "nbformat": 4,
 "nbformat_minor": 2
}

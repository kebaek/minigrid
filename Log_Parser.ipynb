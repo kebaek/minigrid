{
 "cells": [
  {
   "cell_type": "code",
   "execution_count": 30,
   "metadata": {},
   "outputs": [],
   "source": [
    "import pandas as pd\n",
    "import numpy as np\n",
    "\n",
    "model_dir = 'storage/MiniGrid-ThreeDoor-v0/aQL/lr0.10_discount0.90_eps0.80'\n",
    "log = pd.read_csv(model_dir + '/log.csv', names = ['episodes', 'completed', 'reward', 'steps', 'seed'])"
   ]
  },
  {
   "cell_type": "code",
   "execution_count": 35,
   "metadata": {},
   "outputs": [
    {
     "name": "stdout",
     "output_type": "stream",
     "text": [
      "[ 10  20  30  40  50  60  70  80  90 100]\n",
      "Number of wins in 10 episodes:\n",
      "5/10\n",
      "Number of wins in 20 episodes:\n",
      "10/10\n",
      "Number of wins in 30 episodes:\n",
      "10/10\n",
      "Number of wins in 40 episodes:\n",
      "10/10\n",
      "Number of wins in 50 episodes:\n",
      "10/10\n",
      "Number of wins in 60 episodes:\n",
      "10/10\n",
      "Number of wins in 70 episodes:\n",
      "10/10\n",
      "Number of wins in 80 episodes:\n",
      "10/10\n",
      "Number of wins in 90 episodes:\n",
      "10/10\n",
      "Number of wins in 100 episodes:\n",
      "10/10\n"
     ]
    }
   ],
   "source": [
    "## Compute number of wins per seeds run\n",
    "data_dict = {'wins':[], 'rewards':[], 'steps':[]}\n",
    "episodes = np.sort(list(set(log['episodes'])))\n",
    "print(episodes)\n",
    "for i in episodes:\n",
    "    print('Number of wins in %d episodes:'%i)\n",
    "    n = len(log[log['episodes'] == i])\n",
    "    wins = np.sum(log[log['episodes'] == i]['completed'])\n",
    "    print('%d/%d'%(wins,n))\n",
    "    data_dict['wins'].append('%d/%d'%(wins,n))\n",
    "    "
   ]
  },
  {
   "cell_type": "code",
   "execution_count": 36,
   "metadata": {},
   "outputs": [
    {
     "name": "stdout",
     "output_type": "stream",
     "text": [
      "[ 10  20  30  40  50  60  70  80  90 100]\n",
      "Average reward in 10 episodes:\n",
      "14.0\n",
      "Average reward in 20 episodes:\n",
      "14.0\n",
      "Average reward in 30 episodes:\n",
      "14.0\n",
      "Average reward in 40 episodes:\n",
      "14.0\n",
      "Average reward in 50 episodes:\n",
      "14.0\n",
      "Average reward in 60 episodes:\n",
      "14.0\n",
      "Average reward in 70 episodes:\n",
      "14.0\n",
      "Average reward in 80 episodes:\n",
      "14.0\n",
      "Average reward in 90 episodes:\n",
      "14.0\n",
      "Average reward in 100 episodes:\n",
      "14.0\n"
     ]
    },
    {
     "name": "stderr",
     "output_type": "stream",
     "text": [
      "/Users/baek/.local/lib/python3.7/site-packages/ipykernel_launcher.py:7: UserWarning: Boolean Series key will be reindexed to match DataFrame index.\n",
      "  import sys\n"
     ]
    }
   ],
   "source": [
    "## Compute average reward\n",
    "\n",
    "episodes = np.sort(list(set(log['episodes'])))\n",
    "print(episodes)\n",
    "for i in episodes:\n",
    "    print('Average reward in %d episodes:'%i)\n",
    "    rewards = log[log['episodes'] == i][log['completed'] == 1]['reward']\n",
    "    print(np.average(rewards))\n",
    "    data_dict['rewards'].append(np.average(rewards))\n"
   ]
  },
  {
   "cell_type": "code",
   "execution_count": 37,
   "metadata": {},
   "outputs": [
    {
     "name": "stdout",
     "output_type": "stream",
     "text": [
      "[ 10  20  30  40  50  60  70  80  90 100]\n",
      "Average steps in 10 episodes:\n",
      "127.0\n",
      "Average steps in 20 episodes:\n",
      "24.0\n",
      "Average steps in 30 episodes:\n",
      "24.0\n",
      "Average steps in 40 episodes:\n",
      "24.0\n",
      "Average steps in 50 episodes:\n",
      "24.0\n",
      "Average steps in 60 episodes:\n",
      "24.0\n",
      "Average steps in 70 episodes:\n",
      "24.0\n",
      "Average steps in 80 episodes:\n",
      "26.8\n",
      "Average steps in 90 episodes:\n",
      "24.0\n",
      "Average steps in 100 episodes:\n",
      "26.8\n"
     ]
    },
    {
     "name": "stderr",
     "output_type": "stream",
     "text": [
      "/Users/baek/.local/lib/python3.7/site-packages/ipykernel_launcher.py:7: UserWarning: Boolean Series key will be reindexed to match DataFrame index.\n",
      "  import sys\n"
     ]
    }
   ],
   "source": [
    "## Compute average steps\n",
    "\n",
    "episodes = np.sort(list(set(log['episodes'])))\n",
    "print(episodes)\n",
    "for i in episodes:\n",
    "    print('Average steps in %d episodes:'%i)\n",
    "    steps = log[log['episodes'] == i][log['completed'] == 1]['steps']\n",
    "    print(np.average(steps))\n",
    "    data_dict['steps'].append(np.average(steps))\n"
   ]
  },
  {
   "cell_type": "code",
   "execution_count": 38,
   "metadata": {},
   "outputs": [],
   "source": [
    "##save results\n",
    "df = pd.DataFrame.from_dict(data_dict, orient=\"index\")\n",
    "df.to_csv(\"data.csv\")\n"
   ]
  },
  {
   "cell_type": "code",
   "execution_count": null,
   "metadata": {},
   "outputs": [],
   "source": []
  }
 ],
 "metadata": {
  "kernelspec": {
   "display_name": "Python 3",
   "language": "python",
   "name": "python3"
  },
  "language_info": {
   "codemirror_mode": {
    "name": "ipython",
    "version": 3
   },
   "file_extension": ".py",
   "mimetype": "text/x-python",
   "name": "python",
   "nbconvert_exporter": "python",
   "pygments_lexer": "ipython3",
   "version": "3.7.3"
  }
 },
 "nbformat": 4,
 "nbformat_minor": 2
}

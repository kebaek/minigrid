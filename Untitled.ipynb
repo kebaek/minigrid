{
 "cells": [
  {
   "cell_type": "code",
   "execution_count": 2,
   "metadata": {},
   "outputs": [],
   "source": [
    "import pandas as pd\n",
    "import numpy as np\n",
    "\n",
    "model_dir = 'storage/dqn-3Door-10000'"
   ]
  },
  {
   "cell_type": "code",
   "execution_count": 3,
   "metadata": {},
   "outputs": [],
   "source": [
    "seeds = np.arange(10) + 1 "
   ]
  },
  {
   "cell_type": "code",
   "execution_count": 4,
   "metadata": {},
   "outputs": [
    {
     "name": "stdout",
     "output_type": "stream",
     "text": [
      "10\n",
      "Episode 1000\n",
      "Average Reward 4.2\n",
      "Won 10/100\n",
      "Average Steps 293.7\n",
      "Episode 2000\n",
      "Average Reward 10.6\n",
      "Won 50/100\n",
      "Average Steps 171.5\n",
      "Episode 3000\n",
      "Average Reward 13.2\n",
      "Won 70/100\n",
      "Average Steps 109.9\n",
      "Episode 4000\n",
      "Average Reward 14.6\n",
      "Won 80/100\n",
      "Average Steps 79.2\n",
      "Episode 5000\n",
      "Average Reward 14.8\n",
      "Won 90/100\n",
      "Average Steps 47.6\n",
      "Episode 6000\n",
      "Average Reward 14.4\n",
      "Won 90/100\n",
      "Average Steps 47.4\n",
      "Episode 7000\n",
      "Average Reward 15.6\n",
      "Won 100/100\n",
      "Average Steps 16.8\n",
      "Episode 8000\n",
      "Average Reward 16.4\n",
      "Won 100/100\n",
      "Average Steps 17.2\n",
      "Episode 9000\n",
      "Average Reward 16.2\n",
      "Won 100/100\n",
      "Average Steps 17.3\n",
      "Episode 10000\n",
      "Average Reward 15.6\n",
      "Won 100/100\n",
      "Average Steps 16.8\n"
     ]
    }
   ],
   "source": [
    "reward_dict = {}\n",
    "steps_dict = {}\n",
    "won_dict = {}\n",
    "for i in seeds:\n",
    "    log = pd.read_csv(model_dir + '-%d/'%i + 'eval.csv', \n",
    "                      names = ['completed', 'reward', 'steps to completion'])\n",
    "    for j, r in log.iterrows():\n",
    "        if i == 1:\n",
    "            reward_dict[(j+1)*1000] = []\n",
    "            steps_dict[(j+1)*1000] = []\n",
    "            won_dict[(j+1)*1000] = []\n",
    "        won_dict[(j+1)*1000].append(r[0])\n",
    "        reward_dict[(j+1)*1000].append(r[1])\n",
    "        steps_dict[(j+1)*1000].append(r[2])\n",
    "\n",
    "l = len(reward_dict)\n",
    "print(l)\n",
    "\n",
    "for i in range(1, l+1):\n",
    "    print('Episode', i*1000)\n",
    "    print('Average Reward', np.mean(reward_dict[i*1000]))\n",
    "    print('Won %d/%d'%(np.sum(won_dict[i*1000]), 10*len(won_dict[i*1000])))\n",
    "    print('Average Steps', np.mean(steps_dict[i*1000]))"
   ]
  },
  {
   "cell_type": "code",
   "execution_count": null,
   "metadata": {},
   "outputs": [],
   "source": []
  },
  {
   "cell_type": "code",
   "execution_count": null,
   "metadata": {},
   "outputs": [],
   "source": []
  }
 ],
 "metadata": {
  "kernelspec": {
   "display_name": "Python 3",
   "language": "python",
   "name": "python3"
  },
  "language_info": {
   "codemirror_mode": {
    "name": "ipython",
    "version": 3
   },
   "file_extension": ".py",
   "mimetype": "text/x-python",
   "name": "python",
   "nbconvert_exporter": "python",
   "pygments_lexer": "ipython3",
   "version": "3.7.3"
  }
 },
 "nbformat": 4,
 "nbformat_minor": 2
}

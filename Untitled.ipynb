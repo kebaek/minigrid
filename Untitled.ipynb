{
 "cells": [
  {
   "cell_type": "code",
   "execution_count": 16,
   "metadata": {},
   "outputs": [],
   "source": [
    "import pandas as pd\n",
    "\n",
    "model_dir = 'storage/MiniGrid-DoorKey-5x5-v0/aQL/lr0.10_discount0.90_eps0.80'\n",
    "policy = pd.read_csv(model_dir + '/policy.csv', index_col=0,squeeze=True)\n",
    "policy = policy.to_dict()"
   ]
  },
  {
   "cell_type": "code",
   "execution_count": 17,
   "metadata": {},
   "outputs": [
    {
     "name": "stdout",
     "output_type": "stream",
     "text": [
      "{'[ 1  0  0  1  0  0 10  0  2  4  4  2  2  5  0  2  5  0  1  0  0  1  0  0\\n  8  1  0]': 0, '[10  0  2  5  4  0  1  0  0  4  4  2  2  5  0  2  5  0  1  0  0  1  0  0\\n  8  1  0]': 0, '[ 5  4  0  1  0  0 10  0  1  2  5  0  4  4  2  2  5  0  1  0  0  1  0  0\\n  8  1  0]': 0, '[ 5  4  0  1  0  0 10  0  0  2  5  0  4  4  2  2  5  0  1  0  0  1  0  0\\n  8  1  0]': 0, '[ 1  0  0  5  4  0 10  0  1  4  4  2  2  5  0  2  5  0  1  0  0  1  0  0\\n  8  1  0]': 0, '[10  0  0  5  4  0  1  0  0  4  4  2  2  5  0  2  5  0  1  0  0  1  0  0\\n  8  1  0]': 0, '[10  0  0  1  0  0  5  4  0  4  4  2  2  5  0  2  5  0  1  0  0  1  0  0\\n  8  1  0]': 0, '[10  0  1  5  4  0  1  0  0  4  4  2  2  5  0  2  5  0  1  0  0  1  0  0\\n  8  1  0]': 0, '[ 1  0  0  1  0  0 10  0  1  4  4  2  2  5  0  2  5  0  1  0  0  1  0  0\\n  8  1  0]': 0, '[ 1  0  0 10  0  0  5  4  0  4  4  2  2  5  0  2  5  0  1  0  0  1  0  0\\n  8  1  0]': 0, '[ 1  0  0  5  4  0 10  0  2  4  4  2  2  5  0  2  5  0  1  0  0  1  0  0\\n  8  1  0]': 0, '[10  0  1  1  0  0  5  4  0  4  4  2  2  5  0  2  5  0  1  0  0  1  0  0\\n  8  1  0]': 0, '[ 5  4  0 10  0  1  1  0  0  2  5  0  4  4  2  2  5  0  1  0  0  1  0  0\\n  8  1  0]': 0, '[ 5  4  0  1  0  0 10  0  3  2  5  0  4  4  2  2  5  0  1  0  0  1  0  0\\n  8  1  0]': 0, '[ 1  0  0 10  0  3  1  0  0  4  4  2  2  5  0  2  5  0  1  0  0  1  0  0\\n  8  1  0]': 0, '[10  0  2  1  0  0  5  4  0  4  4  2  2  5  0  2  5  0  1  0  0  1  0  0\\n  8  1  0]': 0, '[ 1  0  0  1  0  0 10  0  0  4  4  2  2  5  0  2  5  0  1  0  0  1  0  0\\n  8  1  0]': 0, '[ 5  4  0 10  0  0  1  0  0  2  5  0  4  4  2  2  5  0  1  0  0  1  0  0\\n  8  1  0]': 0, '[ 5  4  0 10  0  3  1  0  0  2  5  0  4  4  2  2  5  0  1  0  0  1  0  0\\n  8  1  0]': 0, '[ 1  0  0  5  4  0 10  0  0  4  4  2  2  5  0  2  5  0  1  0  0  1  0  0\\n  8  1  0]': 0, '[ 1  0  0 10  0  3  5  4  0  4  4  2  2  5  0  2  5  0  1  0  0  1  0  0\\n  8  1  0]': 0, '[ 1  0  0 10  0  1  5  4  0  4  4  2  2  5  0  2  5  0  1  0  0  1  0  0\\n  8  1  0]': 0, '[ 5  4  0 10  0  2  1  0  0  2  5  0  4  4  2  2  5  0  1  0  0  1  0  0\\n  8  1  0]': 0, '[10  0  3  5  4  0  1  0  0  4  4  2  2  5  0  2  5  0  1  0  0  1  0  0\\n  8  1  0]': 0, '[ 5  4  0  1  0  0 10  0  2  2  5  0  4  4  2  2  5  0  1  0  0  1  0  0\\n  8  1  0]': 0, '[ 1  0  0  1  0  0 10  0  3  4  4  2  2  5  0  2  5  0  1  0  0  1  0  0\\n  8  1  0]': 0, '[ 1  0  0  5  4  0 10  0  3  4  4  2  2  5  0  2  5  0  1  0  0  1  0  0\\n  8  1  0]': 0}\n"
     ]
    }
   ],
   "source": [
    "print(policy)"
   ]
  },
  {
   "cell_type": "code",
   "execution_count": null,
   "metadata": {},
   "outputs": [],
   "source": []
  }
 ],
 "metadata": {
  "kernelspec": {
   "display_name": "Python 3",
   "language": "python",
   "name": "python3"
  },
  "language_info": {
   "codemirror_mode": {
    "name": "ipython",
    "version": 3
   },
   "file_extension": ".py",
   "mimetype": "text/x-python",
   "name": "python",
   "nbconvert_exporter": "python",
   "pygments_lexer": "ipython3",
   "version": "3.7.3"
  }
 },
 "nbformat": 4,
 "nbformat_minor": 2
}
